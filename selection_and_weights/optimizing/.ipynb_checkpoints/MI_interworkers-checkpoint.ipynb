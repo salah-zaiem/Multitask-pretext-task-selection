{
 "cells": [
  {
   "cell_type": "code",
   "execution_count": 10,
   "metadata": {},
   "outputs": [],
   "source": [
    "import pickle\n",
    "import numpy as np"
   ]
  },
  {
   "cell_type": "code",
   "execution_count": 4,
   "metadata": {},
   "outputs": [
    {
     "data": {
      "text/plain": [
       "{'F0final_sma': {'F0final_sma': array([5.6976167]),\n",
       "  'voicingFinalUnclipped_sma': array([1.05936679]),\n",
       "  'logHNR_sma': array([1.17685366]),\n",
       "  'audspecRasta_lengthL1norm_sma': array([0.30826281]),\n",
       "  'pcm_RMSenergy_sma': array([0.55398428]),\n",
       "  'pcm_zcr_sma': array([0.45340504]),\n",
       "  'alphaRatio_sma3': array([0.30335808])},\n",
       " 'voicingFinalUnclipped_sma': {'voicingFinalUnclipped_sma': array([6.96900625]),\n",
       "  'logHNR_sma': array([1.07229423]),\n",
       "  'audspecRasta_lengthL1norm_sma': array([0.41720334]),\n",
       "  'pcm_RMSenergy_sma': array([0.78748396]),\n",
       "  'pcm_zcr_sma': array([0.57895328]),\n",
       "  'alphaRatio_sma3': array([0.4151027])},\n",
       " 'logHNR_sma': {'logHNR_sma': array([5.95245262]),\n",
       "  'audspecRasta_lengthL1norm_sma': array([0.30707086]),\n",
       "  'pcm_RMSenergy_sma': array([0.54967444]),\n",
       "  'pcm_zcr_sma': array([0.53568711]),\n",
       "  'alphaRatio_sma3': array([0.34463027])},\n",
       " 'audspecRasta_lengthL1norm_sma': {'audspecRasta_lengthL1norm_sma': array([8.16947521]),\n",
       "  'pcm_RMSenergy_sma': array([0.51161436]),\n",
       "  'pcm_zcr_sma': array([0.25001981]),\n",
       "  'alphaRatio_sma3': array([0.20309317])},\n",
       " 'pcm_RMSenergy_sma': {'pcm_RMSenergy_sma': array([8.16953568]),\n",
       "  'pcm_zcr_sma': array([0.50935306]),\n",
       "  'alphaRatio_sma3': array([0.36926729])},\n",
       " 'pcm_zcr_sma': {'pcm_zcr_sma': array([8.16816686]),\n",
       "  'alphaRatio_sma3': array([0.7397923])},\n",
       " 'alphaRatio_sma3': {'alphaRatio_sma3': array([8.16951552])}}"
      ]
     },
     "execution_count": 4,
     "metadata": {},
     "output_type": "execute_result"
    }
   ],
   "source": [
    "results_file = open(\"diagnostic_measures/interworkers_mi/results.pkl\", \"rb\")\n",
    "results= pickle.load(results_file)\n",
    "results"
   ]
  },
  {
   "cell_type": "code",
   "execution_count": 12,
   "metadata": {},
   "outputs": [
    {
     "data": {
      "text/plain": [
       "array([[5.6976167 , 1.05936679, 1.17685366, 0.30826281, 0.55398428,\n",
       "        0.45340504, 0.30335808],\n",
       "       [1.05936679, 6.96900625, 1.07229423, 0.41720334, 0.78748396,\n",
       "        0.57895328, 0.4151027 ],\n",
       "       [1.17685366, 1.07229423, 5.95245262, 0.30707086, 0.54967444,\n",
       "        0.53568711, 0.34463027],\n",
       "       [0.30826281, 0.41720334, 0.30707086, 8.16947521, 0.51161436,\n",
       "        0.25001981, 0.20309317],\n",
       "       [0.55398428, 0.78748396, 0.54967444, 0.51161436, 8.16953568,\n",
       "        0.50935306, 0.36926729],\n",
       "       [0.45340504, 0.57895328, 0.53568711, 0.25001981, 0.50935306,\n",
       "        8.16816686, 0.7397923 ],\n",
       "       [0.30335808, 0.4151027 , 0.34463027, 0.20309317, 0.36926729,\n",
       "        0.7397923 , 8.16951552]])"
      ]
     },
     "execution_count": 12,
     "metadata": {},
     "output_type": "execute_result"
    }
   ],
   "source": [
    "elements_list = list(results.keys())\n",
    "def get_value(el1, el2) : \n",
    "    if el1 < el2 : \n",
    "        value = results[elements_list[el1]][elements_list[el2]][0]\n",
    "    else :\n",
    "        value = results[elements_list[el2]][elements_list[el1]][0]\n",
    "    return value \n",
    "f= np.zeros((7,7))\n",
    "for i in range(7):\n",
    "    for j in range(7) : \n",
    "        f[i,j] = get_value(i,j)\n",
    "f"
   ]
  },
  {
   "cell_type": "code",
   "execution_count": 4,
   "metadata": {},
   "outputs": [
    {
     "data": {
      "text/plain": [
       "[('salah', 'mohamed', 'zaiem')]"
      ]
     },
     "execution_count": 4,
     "metadata": {},
     "output_type": "execute_result"
    }
   ],
   "source": [
    " import itertools\n",
    "list(itertools.combinations([\"salah\", \"mohamed\", \"zaiem\"], 3))"
   ]
  },
  {
   "cell_type": "code",
   "execution_count": 16,
   "metadata": {
    "scrolled": false
   },
   "outputs": [
    {
     "data": {
      "image/png": "[encoded data removed]",
      "text/plain": [
       "<Figure size 1080x576 with 1 Axes>"
      ]
     },
     "metadata": {},
     "output_type": "display_data"
    }
   ],
   "source": [
    "from matplotlib import pyplot as plt\n",
    "randn = np.random.randn\n",
    "from pandas import * \n",
    "\n",
    "f = DataFrame(f)\n",
    "vals = np.around(df.values,2)\n",
    "norm = plt.Normalize(vals.min()-1, vals.max()+1)\n",
    "colours = plt.cm.hot(norm(vals))\n",
    "\n",
    "fig = plt.figure(figsize=(15,8))\n",
    "ax = fig.add_subplot(111, frameon=True, xticks=[], yticks=[])\n",
    "\n",
    "the_table=plt.table(cellText=vals, rowLabels=df.index, colLabels=df.columns, \n",
    "                    colWidths = [0.03]*vals.shape[1], loc='center', \n",
    "                    cellColours=colours)\n",
    "plt.show()\n"
   ]
  },
  {
   "cell_type": "code",
   "execution_count": 18,
   "metadata": {},
   "outputs": [],
   "source": [
    "import sparsemax"
   ]
  },
  {
   "cell_type": "code",
   "execution_count": 27,
   "metadata": {},
   "outputs": [
    {
     "name": "stdout",
     "output_type": "stream",
     "text": [
      "\n",
      "Logits\n",
      "tensor([[-1.2635,  0.6150,  0.2763, -1.4308,  1.1706,  0.8104,  1.0316],\n",
      "        [-1.9121, -0.1553, -0.9192, -0.3545, -0.7984,  0.5011, -1.2812]])\n",
      "\n",
      "Softmax probabilities\n",
      "tensor([[0.0236, 0.1545, 0.1101, 0.0200, 0.2694, 0.1879, 0.2344],\n",
      "        [0.0330, 0.1910, 0.0890, 0.1565, 0.1004, 0.3682, 0.0620]])\n",
      "\n",
      "Sparsemax probabilities\n",
      "tensor([[0.0000, 0.0000, 0.0000, 0.0000, 0.4997, 0.1395, 0.3607],\n",
      "        [0.0000, 0.1718, 0.0000, 0.0000, 0.0000, 0.8282, 0.0000]])\n"
     ]
    }
   ],
   "source": [
    "import torch\n",
    "from sparsemax import Sparsemax\n",
    "\n",
    "sparsemax = Sparsemax(dim=1)\n",
    "softmax = torch.nn.Softmax(dim=1)\n",
    "\n",
    "logits = torch.randn(2, 7)\n",
    "print(\"\\nLogits\")\n",
    "print(logits)\n",
    "\n",
    "softmax_probs = softmax(logits)\n",
    "print(\"\\nSoftmax probabilities\")\n",
    "print(softmax_probs)\n",
    "\n",
    "sparsemax_probs = sparsemax(logits)\n",
    "print(\"\\nSparsemax probabilities\")\n",
    "print(sparsemax_probs)\n"
   ]
  },
  {
   "cell_type": "code",
   "execution_count": 17,
   "metadata": {},
   "outputs": [
    {
     "data": {
      "text/plain": [
       "['F0final_sma',\n",
       " 'voicingFinalUnclipped_sma',\n",
       " 'logHNR_sma',\n",
       " 'audspecRasta_lengthL1norm_sma',\n",
       " 'pcm_RMSenergy_sma',\n",
       " 'pcm_zcr_sma',\n",
       " 'alphaRatio_sma3']"
      ]
     },
     "execution_count": 17,
     "metadata": {},
     "output_type": "execute_result"
    }
   ],
   "source": [
    "elements_list"
   ]
  }
 ],
 "metadata": {
  "kernelspec": {
   "display_name": "Python 3",
   "language": "python",
   "name": "python3"
  },
  "language_info": {
   "codemirror_mode": {
    "name": "ipython",
    "version": 3
   },
   "file_extension": ".py",
   "mimetype": "text/x-python",
   "name": "python",
   "nbconvert_exporter": "python",
   "pygments_lexer": "ipython3",
   "version": "3.8.5"
  }
 },
 "nbformat": 4,
 "nbformat_minor": 2
}
